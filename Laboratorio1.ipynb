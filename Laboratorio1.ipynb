{
 "cells": [
  {
   "attachments": {},
   "cell_type": "markdown",
   "metadata": {},
   "source": [
    "![Img AltText](https://www.galileo.edu/wp-content/uploads/2023/01/Galileo-Sin-slogan.png)\n"
   ]
  },
  {
   "attachments": {},
   "cell_type": "markdown",
   "metadata": {},
   "source": [
    "## Nombre: Josue Daniel King Calderon\n",
    "## Carnet: 23000712\n"
   ]
  },
  {
   "attachments": {},
   "cell_type": "markdown",
   "metadata": {},
   "source": [
    "# __Control de Versiones (Git)__"
   ]
  },
  {
   "attachments": {},
   "cell_type": "markdown",
   "metadata": {},
   "source": [
    "Son herramientas que se utilizan para realizar el control de cambios sobres proyectos y que sea mas facil llegar la ruta de cambios."
   ]
  },
  {
   "attachments": {},
   "cell_type": "markdown",
   "metadata": {},
   "source": [
    "# ___Que preguntas nos ayuda a contestar Git?___"
   ]
  },
  {
   "attachments": {},
   "cell_type": "markdown",
   "metadata": {},
   "source": [
    "* Quien modifica el codigo?\n",
    "* Cuando editaron el codigo?\n",
    "* Despues de que punto fallo nuestro codigo?"
   ]
  },
  {
   "attachments": {},
   "cell_type": "markdown",
   "metadata": {},
   "source": [
    "### __Ventajas de Usar Git__"
   ]
  },
  {
   "attachments": {},
   "cell_type": "markdown",
   "metadata": {},
   "source": [
    "1. Trabajo colaborativo\n",
    "2. Tener la posibilidad de regresar a una version atenrior del proyecto\n",
    "3. Subir proyectos grandes con muchos archivos\n",
    "4. Facilidad de compartir codigo\n",
    "5. Genera un Flujo de Trabajo"
   ]
  },
  {
   "attachments": {},
   "cell_type": "markdown",
   "metadata": {},
   "source": [
    "### __Top 10 Comandos de Git__"
   ]
  },
  {
   "attachments": {},
   "cell_type": "markdown",
   "metadata": {},
   "source": [
    "|Nombre |Descripcion|Ejemplo|\n",
    "|:-----|:----:|----:|\n",
    "|Git clone |Comando para desscargar el codigo desde un respositorio remoto |git clone <https://link-con-nombre-del-repositorio>  |\n",
    "|Git branch |Comando usado para la creacion de ramas |git branch <nombre-de-la-rama> |\n",
    "|Git checkout |Comando para saltar de una rama a otra |git checkout <nombre-de-la-rama> |\n",
    "|Git status |Nos brinda toda la informacion de la rama |git status |\n",
    "|Git add |Incluye todos los cambios de los archivos a nuestro commit |git add <archivo> |\n",
    "|Git commit |Establece un punto de contro en el desarrollo del proyecto |git commit -m \"mensaje de confirmación\" |\n",
    "|Git push |Envia los cambios locales a un repositorio remoto |git push <nombre-remoto> <nombre-de-tu-rama> |\n",
    "|Git pull |Baja todos los cambios del repositorio remoto a repositorio local |git pull <nombre-remoto> |\n",
    "|Git revert |Revierte los cambios realizados, regresando entre los diferentes commit |git revert <commit> |\n",
    "|Git merge |Fuciona las ramas que necesitamos |git merge <nombre-de-la-rama> |\n",
    "\n",
    "\n",
    "\n",
    "\n"
   ]
  },
  {
   "attachments": {},
   "cell_type": "markdown",
   "metadata": {},
   "source": [
    "# ___Concluciones___\n",
    "El uso de herramientas como git ayudan a generar un flujo de trabajo mas efeciente y ordenado al momento de crear proyectos de codigo del tamaño que sea, nos ayuda al trabajo colaborativo y que varias personas trabajen sobre un mismo proyecto sin arruinar el trabajo que otra persona hace. Ademas podemos disponer de la siguiente informacion\n",
    "\n",
    "* Saber quien realizo cambios en nuestro codigo\n",
    "* Realizar comparaciones entre versiones de nuestro codigo\n",
    "* Llenar el control de la evolucion de proyecto en el tiempo\n",
    "* Contar con una copia de nuestro codigo fuente\n",
    "* Poder volver entre cambios\n",
    "* Disponer de un historial de cambios"
   ]
  },
  {
   "attachments": {},
   "cell_type": "markdown",
   "metadata": {},
   "source": [
    "[Link del Repo](https://github.com/jking2410/Laboratorio-1---Markdown-y-Git-)\n"
   ]
  }
 ],
 "metadata": {
  "language_info": {
   "name": "python"
  },
  "orig_nbformat": 4
 },
 "nbformat": 4,
 "nbformat_minor": 2
}
